{
  "cells": [
    {
      "cell_type": "code",
      "execution_count": 29,
      "metadata": {
        "colab": {
          "base_uri": "https://localhost:8080/"
        },
        "id": "Rl5mLTXmTG5J",
        "outputId": "76662bde-9cae-4903-aaa5-c25004451641"
      },
      "outputs": [
        {
          "name": "stdout",
          "output_type": "stream",
          "text": [
            "Drive already mounted at /content/gdrive; to attempt to forcibly remount, call drive.mount(\"/content/gdrive\", force_remount=True).\n"
          ]
        }
      ],
      "source": [
        "import time\n",
        "import os \n",
        "\n",
        "import pandas as pd\n",
        "import numpy as np\n",
        "from sklearn.model_selection import train_test_split \n",
        "\n",
        "import torch\n",
        "import torch.nn as nn\n",
        "import torch.nn.functional as F\n",
        "import torch.utils.data as data_utils\n",
        "from torch.autograd import Variable\n",
        "\n",
        "import matplotlib\n",
        "import matplotlib.pyplot as plt\n",
        "\n",
        "import scipy.misc\n",
        "import numpy as np\n",
        "import numpy.random as npr\n",
        "\n",
        "# from google.colab import drive\n",
        "# drive.mount('/content/gdrive')"
      ]
    },
    {
      "cell_type": "code",
      "execution_count": 30,
      "metadata": {
        "id": "NgUlRy7hE7za"
      },
      "outputs": [],
      "source": [
        "TEST_SIZE = 0.15 #@param {type:\"slider\", min:0, max:1, step:0.05}\n",
        "\n",
        "def load_input_data():\n",
        "  # load input data and separate into training/test data\n",
        "  \n",
        "  df = pd.read_pickle('/content/gdrive/MyDrive/CSC413_Final_Project/final_data/pretraining_final.pkl')\n",
        "\n",
        "  X = list(df['vectorized'])\n",
        "\n",
        "  X_train, X_test, _, _ = train_test_split(X, X, test_size=TEST_SIZE, random_state=42)\n",
        "  \n",
        "  return X_train, X_test"
      ]
    },
    {
      "cell_type": "code",
      "execution_count": 31,
      "metadata": {
        "id": "T2V_7SqBEirP"
      },
      "outputs": [],
      "source": [
        "batch_size = 128  #@param {type:\"integer\"}\n",
        "\n",
        "# set up DataLoader for batch sampling\n",
        "x_train, x_test = load_input_data()\n",
        "x_train, x_test = torch.FloatTensor(x_train).cuda(), torch.FloatTensor(x_test).cuda()\n",
        "\n",
        "train_ds = data_utils.TensorDataset(x_train)\n",
        "train_loader = data_utils.DataLoader(train_ds, batch_size=batch_size, shuffle=True, drop_last=True)\n",
        "\n",
        "test_ds = data_utils.TensorDataset(x_test)\n",
        "test_loader = data_utils.DataLoader(test_ds, batch_size=batch_size, shuffle=True, drop_last=True)"
      ]
    },
    {
      "cell_type": "code",
      "execution_count": 32,
      "metadata": {
        "id": "I4PKoSKLGi02"
      },
      "outputs": [],
      "source": [
        "#@title Masking prob means that if that piece exists, what is the probability that it will get masked out\n",
        "MASKING_PROB = 0.5 #@param {type:\"slider\", min:0, max:1, step:0.05}\n",
        "\n",
        "def get_mini_batch_from_boards(x):\n",
        "  \"\"\"\n",
        "  x : A 3D tensor where the first 12 channels\n",
        "      represent piece locations on a board \n",
        "      (one channel for each chess piece type), \n",
        "      and the final two channels represent the\n",
        "      move that was played in that position\n",
        "      (one-hot for start and end square)\n",
        "\n",
        "  For each piece on the board, we decide whether\n",
        "  to mask the piece by sampling from a Bernoulli \n",
        "  distribution with probability MASKING_PROB\n",
        "\n",
        "  We add the mask as a channel and remove each \n",
        "  masked piece from its original channel (among \n",
        "  the first 12)\n",
        "\n",
        "  We return the new input, mask, and \n",
        "  labels (identity of the masked pieces)\n",
        "  \"\"\"\n",
        "\n",
        "  board = x[:, :12]\n",
        "  act = x[:, 12:]\n",
        "\n",
        "  mask = torch.bernoulli(MASKING_PROB * board)\n",
        "  mask = torch.sum(mask, dim=1, keepdim=True)\n",
        "  masked_board = (1. - mask) * board\n",
        "  labels = mask * board\n",
        "\n",
        "  assert torch.equal(board, masked_board + labels)\n",
        "\n",
        "  new_x = torch.cat([masked_board, act, mask], dim=1)\n",
        "\n",
        "  return new_x, labels, mask\n"
      ]
    },
    {
      "cell_type": "code",
      "execution_count": 33,
      "metadata": {
        "id": "F3grnqhI7tlI"
      },
      "outputs": [],
      "source": [
        "class MultiMaskNet(nn.Module):\n",
        "    \"\"\"\n",
        "    A network to predict masked squares\n",
        "    \n",
        "    Input is 15 x 8 x 8\n",
        "      - channels 1 to 12 represent the piece location (excluding masked pieces)\n",
        "      - channels 13 to 14 represent move that was played\n",
        "      - channel 15 represents the mask\n",
        "    \n",
        "    Architecture:\n",
        "      - Feed the first 14 channels through 4 CNN layers\n",
        "      - Feed the 15th channel through 1 CNN layer\n",
        "      - Concatenate the output of both along the channel dimension\n",
        "      - Feed the result through a CNN layer that reduces the \n",
        "        number of channels to 12, giving the logits on which we apply\n",
        "        cross entropy loss\n",
        "\n",
        "    * Note this structure eliminates dependency on the mask channel for \n",
        "      the first 4 CNN layers, allowing us to better apply the representations \n",
        "      to downstream tasks\n",
        "    \"\"\"\n",
        "    \n",
        "    def __init__(self, kernel, num_in_channels):\n",
        "        super().__init__()\n",
        "\n",
        "        padding = kernel // 2\n",
        "\n",
        "        C = 64\n",
        "\n",
        "        self.block_1 = nn.Sequential(\n",
        "            nn.Conv2d(num_in_channels-1, C, kernel_size=kernel, padding=padding),\n",
        "            nn.BatchNorm2d(C),\n",
        "            nn.ReLU()\n",
        "        )\n",
        "        self.block_2 = nn.Sequential(\n",
        "            nn.Conv2d(C, C, kernel_size=kernel, padding=padding),\n",
        "            nn.BatchNorm2d(C),\n",
        "            nn.ReLU()\n",
        "        )\n",
        "        self.block_3 = nn.Sequential(\n",
        "            nn.Conv2d(C, C, kernel_size=kernel, padding=padding),\n",
        "            nn.BatchNorm2d(C),\n",
        "            nn.ReLU()\n",
        "        )\n",
        "        self.block_4 = nn.Sequential(\n",
        "            nn.Conv2d(C, C, kernel_size=kernel, padding=padding),\n",
        "            nn.BatchNorm2d(C),\n",
        "            nn.ReLU()\n",
        "        )\n",
        "\n",
        "        self.mask_encoder = nn.Conv2d(1, C, kernel_size=kernel, padding=padding)\n",
        "\n",
        "        self.block_5 = nn.Conv2d(2 * C, 12, kernel_size=1, padding=0)\n",
        "\n",
        "    def forward(self, x):\n",
        "        x, mask = x[:, :-1], x[:, -1:]\n",
        "\n",
        "        x = self.block_1(x)\n",
        "        x = self.block_2(x)\n",
        "        x = self.block_3(x)\n",
        "        x = self.block_4(x)\n",
        "\n",
        "        encoded_mask = self.mask_encoder(mask)\n",
        "        x = torch.cat([x, encoded_mask], dim=1)\n",
        "        \n",
        "        logits = self.block_5(x)\n",
        "        \n",
        "        return logits"
      ]
    },
    {
      "cell_type": "code",
      "execution_count": 34,
      "metadata": {
        "id": "jT7RF6CJaHT7"
      },
      "outputs": [],
      "source": [
        "def compute_multi_mask_cross_entropy_loss(logits, mask, labels):\n",
        "  # apply cross entropy loss on masked squares\n",
        "  cross_ent_loss = F.cross_entropy(logits, labels, reduction='none')\n",
        "  cross_ent_loss *= mask[:, 0, :, :]\n",
        "  cross_ent_loss = torch.sum(cross_ent_loss) / torch.sum(mask)\n",
        "  return cross_ent_loss"
      ]
    },
    {
      "cell_type": "code",
      "execution_count": 35,
      "metadata": {
        "id": "8wsZoKfBty9U"
      },
      "outputs": [],
      "source": [
        "def run_validation_step(\n",
        "    cnn,\n",
        "    plotpath=None\n",
        "):\n",
        "    correct = 0.0\n",
        "    total = 0.0\n",
        "    losses = []\n",
        "\n",
        "    for i, boards in enumerate(test_loader):\n",
        "        boards = boards[0]\n",
        "\n",
        "        x, labels, mask = get_mini_batch_from_boards(boards)\n",
        "        logits = cnn(x)\n",
        "\n",
        "        val_loss = compute_multi_mask_cross_entropy_loss(logits, mask, labels)\n",
        "        losses.append(val_loss.data.item())\n",
        "\n",
        "        predicted = torch.argmax(logits, dim=1)\n",
        "        label_inds = torch.argmax(labels, dim=1)\n",
        "\n",
        "        total += torch.sum(mask)\n",
        "        correct += torch.sum((predicted == label_inds) * mask[:, 0, :, :])\n",
        "\n",
        "    val_loss = np.mean(losses)\n",
        "    val_acc = 100 * correct / total\n",
        "    return val_loss, val_acc"
      ]
    },
    {
      "cell_type": "code",
      "execution_count": 36,
      "metadata": {
        "id": "oANPcmqFWD1l"
      },
      "outputs": [],
      "source": [
        "class AttrDict(dict):\n",
        "    def __init__(self, *args, **kwargs):\n",
        "        super(AttrDict, self).__init__(*args, **kwargs)\n",
        "        self.__dict__ = self\n",
        "\n",
        "\n",
        "def train(args, cnn=None):\n",
        "    # set the maximum number of threads\n",
        "    torch.set_num_threads(5)\n",
        "    # random seed\n",
        "    npr.seed(args.seed)\n",
        "\n",
        "    # save directory\n",
        "    save_dir = \"outputs/\" + args.experiment_name\n",
        "\n",
        "    num_in_channels = 15\n",
        "    # LOAD THE MODEL\n",
        "    if cnn is None:\n",
        "        Net = globals()[args.model]\n",
        "        cnn = Net(args.kernel, num_in_channels)\n",
        "\n",
        "    optimizer = torch.optim.Adam(cnn.parameters(), lr=args.learn_rate)\n",
        "\n",
        "    if not os.path.exists(save_dir):\n",
        "        os.makedirs(save_dir)\n",
        "\n",
        "    print(\"Beginning training ...\")\n",
        "    if args.gpu:\n",
        "        cnn.cuda()\n",
        "    start = time.time()\n",
        "\n",
        "    train_losses = []\n",
        "    valid_losses = []\n",
        "    train_accs = []\n",
        "    valid_accs = []\n",
        "    for epoch in range(args.epochs):\n",
        "        # train the model\n",
        "        cnn.train()\n",
        "        losses = []\n",
        "        correct = 0.0\n",
        "        total = 0.0\n",
        "        for i, boards in enumerate(train_loader):\n",
        "            boards = boards[0]\n",
        "\n",
        "            # forward + backward + optimize\n",
        "            optimizer.zero_grad()\n",
        "\n",
        "            x, labels, mask = get_mini_batch_from_boards(boards)\n",
        "            logits = cnn(x)\n",
        "\n",
        "            loss = compute_multi_mask_cross_entropy_loss(logits, mask, labels)\n",
        "            loss.backward()\n",
        "            optimizer.step()\n",
        "            losses.append(loss.data.item())\n",
        "\n",
        "            predicted = torch.argmax(logits, dim=1)\n",
        "            label_inds = torch.argmax(labels, dim=1)\n",
        "\n",
        "            total += torch.sum(mask)\n",
        "            correct += torch.sum((predicted == label_inds) * mask[:, 0, :, :])\n",
        "\n",
        "        # plot training\n",
        "        avg_loss = np.mean(losses)\n",
        "        train_losses.append(avg_loss)\n",
        "        train_acc = 100 * correct / total\n",
        "        train_accs.append(train_acc.data.item())\n",
        "        time_elapsed = time.time() - start\n",
        "        print(\n",
        "            \"Epoch [%d/%d], Train Loss: %.4f, Train Acc: %.1f%%, Time (s): %d\"\n",
        "            % (epoch + 1, args.epochs, avg_loss, train_acc, time_elapsed)\n",
        "        )\n",
        "\n",
        "        # evaluate the model\n",
        "        cnn.eval()\n",
        "        val_loss, val_acc = run_validation_step(\n",
        "            cnn,\n",
        "            save_dir + \"/test_%d.png\" % epoch\n",
        "        )\n",
        "\n",
        "        time_elapsed = time.time() - start\n",
        "        valid_losses.append(val_loss)\n",
        "        valid_accs.append(val_acc.data.item())\n",
        "        print(\n",
        "            \"Epoch [%d/%d], Val Loss: %.4f, Val Acc: %.1f%%, Time(s): %.2f\"\n",
        "            % (epoch + 1, args.epochs, val_loss, val_acc, time_elapsed)\n",
        "        )\n",
        "\n",
        "    # plot training curve\n",
        "    plt.close()\n",
        "    \n",
        "    plt.figure()\n",
        "    plt.plot(train_losses, \"ro-\", label=\"Train\")\n",
        "    plt.plot(valid_losses, \"go-\", label=\"Validation\")\n",
        "    plt.legend()\n",
        "    plt.title(\"Loss\")\n",
        "    plt.xlabel(\"Epochs\")\n",
        "    plt.savefig(save_dir + \"/training_curve.png\")\n",
        "\n",
        "    plt.figure()\n",
        "    plt.plot(train_accs, \"ro-\", label=\"Train\")\n",
        "    plt.plot(valid_accs, \"go-\", label=\"Validation\")\n",
        "    plt.legend()\n",
        "    plt.title(\"Accuracy\")\n",
        "    plt.xlabel(\"Epochs\")\n",
        "    plt.savefig(save_dir + \"/accuracy_curve.png\")\n",
        "\n",
        "    if args.checkpoint:\n",
        "        print(\"Saving model...\")\n",
        "        torch.save(cnn.state_dict(), args.checkpoint)\n",
        "\n",
        "    return cnn"
      ]
    },
    {
      "cell_type": "code",
      "execution_count": 37,
      "metadata": {
        "colab": {
          "base_uri": "https://localhost:8080/",
          "height": 1000
        },
        "id": "13l9wrYKYEKW",
        "outputId": "21521e0f-602e-4771-a574-f17830905869"
      },
      "outputs": [
        {
          "name": "stdout",
          "output_type": "stream",
          "text": [
            "Beginning training ...\n",
            "Epoch [1/16], Train Loss: 0.8964, Train Acc: 72.4%, Time (s): 6\n",
            "Epoch [1/16], Val Loss: 0.8052, Val Acc: 74.8%, Time(s): 6.71\n",
            "Epoch [2/16], Train Loss: 0.7806, Train Acc: 75.3%, Time (s): 12\n",
            "Epoch [2/16], Val Loss: 0.7715, Val Acc: 75.5%, Time(s): 13.29\n",
            "Epoch [3/16], Train Loss: 0.7524, Train Acc: 76.0%, Time (s): 20\n",
            "Epoch [3/16], Val Loss: 0.7444, Val Acc: 76.2%, Time(s): 20.45\n",
            "Epoch [4/16], Train Loss: 0.7370, Train Acc: 76.4%, Time (s): 26\n",
            "Epoch [4/16], Val Loss: 0.7375, Val Acc: 76.3%, Time(s): 27.15\n",
            "Epoch [5/16], Train Loss: 0.7266, Train Acc: 76.6%, Time (s): 33\n",
            "Epoch [5/16], Val Loss: 0.7255, Val Acc: 76.6%, Time(s): 33.79\n",
            "Epoch [6/16], Train Loss: 0.7202, Train Acc: 76.8%, Time (s): 40\n",
            "Epoch [6/16], Val Loss: 0.7243, Val Acc: 76.7%, Time(s): 40.49\n",
            "Epoch [7/16], Train Loss: 0.7143, Train Acc: 76.9%, Time (s): 46\n",
            "Epoch [7/16], Val Loss: 0.7206, Val Acc: 76.7%, Time(s): 47.20\n",
            "Epoch [8/16], Train Loss: 0.7089, Train Acc: 77.1%, Time (s): 53\n",
            "Epoch [8/16], Val Loss: 0.7139, Val Acc: 77.0%, Time(s): 53.98\n",
            "Epoch [9/16], Train Loss: 0.7069, Train Acc: 77.1%, Time (s): 60\n",
            "Epoch [9/16], Val Loss: 0.7120, Val Acc: 77.0%, Time(s): 60.70\n",
            "Epoch [10/16], Train Loss: 0.7018, Train Acc: 77.2%, Time (s): 67\n",
            "Epoch [10/16], Val Loss: 0.7041, Val Acc: 77.3%, Time(s): 67.46\n",
            "Epoch [11/16], Train Loss: 0.6986, Train Acc: 77.3%, Time (s): 73\n",
            "Epoch [11/16], Val Loss: 0.7076, Val Acc: 77.2%, Time(s): 74.17\n",
            "Epoch [12/16], Train Loss: 0.6973, Train Acc: 77.4%, Time (s): 80\n",
            "Epoch [12/16], Val Loss: 0.7035, Val Acc: 77.3%, Time(s): 81.00\n",
            "Epoch [13/16], Train Loss: 0.6934, Train Acc: 77.5%, Time (s): 87\n",
            "Epoch [13/16], Val Loss: 0.7006, Val Acc: 77.3%, Time(s): 87.85\n",
            "Epoch [14/16], Train Loss: 0.6919, Train Acc: 77.5%, Time (s): 94\n",
            "Epoch [14/16], Val Loss: 0.6967, Val Acc: 77.4%, Time(s): 94.67\n",
            "Epoch [15/16], Train Loss: 0.6888, Train Acc: 77.6%, Time (s): 101\n",
            "Epoch [15/16], Val Loss: 0.6980, Val Acc: 77.4%, Time(s): 101.47\n",
            "Epoch [16/16], Train Loss: 0.6870, Train Acc: 77.6%, Time (s): 107\n",
            "Epoch [16/16], Val Loss: 0.6973, Val Acc: 77.4%, Time(s): 108.26\n"
          ]
        },
        {
          "data": {
            "image/png": "[encoded data removed]",
            "text/plain": [
              "<Figure size 432x288 with 1 Axes>"
            ]
          },
          "metadata": {
            "needs_background": "light"
          },
          "output_type": "display_data"
        },
        {
          "data": {
            "image/png": "[encoded data removed]",
            "text/plain": [
              "<Figure size 432x288 with 1 Axes>"
            ]
          },
          "metadata": {
            "needs_background": "light"
          },
          "output_type": "display_data"
        }
      ],
      "source": [
        "args = AttrDict()\n",
        "args_dict = {\n",
        "    \"gpu\": True,\n",
        "    \"valid\": False,\n",
        "    \"checkpoint\": \"\",\n",
        "    \"model\": \"MultiMaskNet\",\n",
        "    \"kernel\": 5,\n",
        "    \"learn_rate\": 0.01,\n",
        "    \"epochs\": 16,\n",
        "    \"seed\": 0,\n",
        "    \"plot\": True,\n",
        "    \"experiment_name\": \"multi_mask_net_50\"\n",
        "}\n",
        "args.update(args_dict)\n",
        "cnn = train(args)"
      ]
    },
    {
      "cell_type": "code",
      "execution_count": 37,
      "metadata": {
        "id": "hft5FHx4z9Ov"
      },
      "outputs": [],
      "source": []
    }
  ],
  "metadata": {
    "accelerator": "GPU",
    "colab": {
      "collapsed_sections": [],
      "name": "Copy of multi_mask_masked_encoder.ipynb",
      "provenance": []
    },
    "kernelspec": {
      "display_name": "Python 3",
      "name": "python3"
    },
    "language_info": {
      "name": "python"
    }
  },
  "nbformat": 4,
  "nbformat_minor": 0
}
